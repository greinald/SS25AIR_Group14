{
 "cells": [
  {
   "cell_type": "code",
   "execution_count": 4,
   "metadata": {},
   "outputs": [],
   "source": [
    "import json\n",
    "import codecs\n",
    "import math\n",
    "import numpy as np\n",
    "from collections import defaultdict, Counter\n",
    "from nltk.tokenize import word_tokenize\n",
    "from nltk.corpus import stopwords\n",
    "from nltk.stem import PorterStemmer\n",
    "import nltk\n",
    "from multiprocessing import Pool, cpu_count\n",
    "import itertools\n",
    "import os # Needed for file operations\n",
    "import pickle # Needed for saving/loading state"
   ]
  },
  {
   "cell_type": "code",
   "execution_count": 2,
   "metadata": {},
   "outputs": [
    {
     "data": {
      "text/plain": [
       "16218839"
      ]
     },
     "execution_count": 2,
     "metadata": {},
     "output_type": "execute_result"
    }
   ],
   "source": [
    "with open('data/allMeSH_2022.json', \"rb\") as f:\n",
    "    num_lines = sum(1 for _ in f)\n",
    "\n",
    "num_lines"
   ]
  },
  {
   "cell_type": "code",
   "execution_count": 3,
   "metadata": {},
   "outputs": [
    {
     "name": "stdout",
     "output_type": "stream",
     "text": [
      "{\"journal\":\"Journal of bacteriology\",\"meshMajor\":[\"Cephalothin\",\"Chloramphenicol\",\"Drug Resistance, Microbial\",\"Drug Stability\",\"Enterobacter\",\"Escherichia\",\"Klebsiella\",\"Pharmaceutical Preparations\",\"Proteus\",\"Salmonella\",\"Shigella\",\"Tetracycline\"],\"year\":\"1964\",\"abstractText\":\"Wick, Warren E. (The Lilly Research Laboratories, Indianapolis, Ind.). Influence of antibiotic stability on the results of in vitro testing procedures. J. Bacteriol. 87:1162-1170. 1964.-Certain antibiotics undergo at least partial degradation under the conditions of in vitro testing procedures. With cephalothin used as an example, experimental evidence is presented to indicate the necessity for re-evaluation of results obtained from in vitro sensitivity testing methods for some antibiotics. The in vitro activity of cephalothin, tetracycline, and chloramphenicol against a variety of gram-negative bacteria is described. Plate counts demonstrate changes in the viable cell population over a 48-hr period in tubes of minimal inhibitory concentration (MIC) tests, with an abrupt rise in MIC value for cephalothin between the 12th and 24th hr. Data obtained by chromatographic methods, showing the degradation of cephalothin for the same time interval, indicated that instability of the antibiotic between the 12th and 24th hr might adversely affect the results obtained from standard 20- to 24-hr in vitro antibiotic sensitivity testing methods. Because repeated administration of an antibiotic to a patient at 4- to 8-hr intervals reinforces the original concentration, a more accurate estimate of antibacterial activity of that antibiotic might preferably be related to this time interval.\",\"pmid\":\"5874538\",\"title\":\"Influence of antibiotic stability on the results of in vitro testing procedures.\"}\n",
      "{\"journal\":\"Journal of bacteriology\",\"meshMajor\":[\"Borrelia\",\"Cell Wall\",\"Cytoplasm\",\"Microscopy, Electron\",\"Mouth\",\"Treponema\"],\"year\":\"1964\",\"abstractText\":\"Bladen, Howard A. (National Institute of Dental Health, Bethesda, Md.), and Edward G. Hampp. Ultrastructure of Treponema microdentium and Borrelia vincentii. J. Bacteriol. 87:1180-1191.-A small oral Treponema (FM) and Borrelia vincentii (N9) were harvested after 3 to 7 days of incubation and either embedded in Vestopal W or negatively stained with phosphotungstate. The protoplasmic cylinders of both strains were identical except for size, and had a triple-structured cell wall as well as intracellular concentric laminations. Protoplasmic cylinders of both strains were enclosed in a cell envelope which appeared amorphous in negatively stained preparations, but which had a triple-structured wall when viewed in thin sections. The cell envelope of strain FM also acted as an envelope for the terminal filament; no filament envelope was evident in strain N9. Large structures which contained variable numbers of organisms and which were representative of spirochetal granules were observed. Protoplasmic cylinders contained within such granules frequently were devoid of cell envelopes. The axial filament consisted of several individual fibers which usually terminated in small end knobs. Occasionally, a fiber of the axial filament became a fiber of the terminal filament. Fibers of the terminal filament originated in end knobs similar to, but separate from, those to which the axial filament was attached. A periodicity of 60 A was occasionally observed in the terminal filament envelope of strain FM. A microperiodicity of approximately 20 A was also observed. The fibers of the terminal filament of strain N9 were composed of a large number of fibrils approximately 15 A wide. The periodicity and fibrillar structure of the terminal filament is discussed with reference to proposed models of bacterial flagella suggested by X-ray diffraction data.\",\"pmid\":\"5874540\",\"title\":\"Ultrastructure of Treponema microdentium and Borrelia vincentii.\"}\n",
      "{\"journal\":\"Journal of bacteriology\",\"meshMajor\":[\"Agar\",\"Culture Media\",\"Hydrogen-Ion Concentration\",\"L Forms\",\"Staphylococcus\"],\"year\":\"1964\",\"abstractText\":\"Banville, Robert R. (The Catholic University of America, Washington, D.C.). Factors affecting growth of Staphylococcus aureus L forms on semidefined medium. J. Bacteriol. 87:1192-1197. 1964.-A semidefined agar medium was found suitable for production and cultivation of the L form of Staphylococcus aureus. In semidefined liquid medium, growth of the L form took place in the form of a sediment containing large masses of cells, but heavy and diffuse growth occurred in the same medium with 0.05% agar. The optimal pH for L-colony formation on solid medium was 6.5. More L colonies developed on 0.75% agar than at higher agar concentrations. L colonies developed in greater numbers on pour plates than on streak plates, and in some cases more L colonies appeared under anaerobic incubation. L-colony formation appeared to be inhibited by sodium citrate. The vitamin requirements of the L forms studied were similar to those of the classical form.\",\"pmid\":\"5874541\",\"title\":\"Factors affecting growth of Staphylococcus aureus L forms on semidefined medium.\"}\n",
      "{\"journal\":\"Journal of bacteriology\",\"meshMajor\":[\"Amphotericin B\",\"Animals\",\"Blood Urea Nitrogen\",\"Coccidioides\",\"Coccidioidomycosis\",\"Dogs\",\"Fungal Vaccines\",\"Lung\",\"Virulence\"],\"year\":\"1964\",\"abstractText\":\"Castleberry, Merida W. (U.S. Army Biological Laboratories, Fort Detrick, Frederick, Md.), John L. Converse, and Peter J. Soto, Jr. Antibiotic control of tissue reactions in dogs vaccinated with viable cells of Coccidioides immitis. J. Bacteriol. 87:1216-1220. 1964.-A total of 12 dogs (15 to 25 lb each), vaccinated with viable Coccidioides immitis (subcutaneous injection of 260 viable arthrospores in the medial surface of the hind leg), resisted a respiratory challenge (aerosol) with the same organism (13,000 viable arthrospores) administered (aerosol) 2 months after vaccination. Oral amphotericin B therapy (150 mg of Fungizone per day for 21 days) of 6 of the 12 dogs, initiated immediately after vaccination, eliminated the undesirable side reactions of the viable vaccine (ulcerated vaccination site and inguinal lymphadenopathy exhibited by the 6 untreated dogs) without affecting the immunogenicity of the vaccine. Clinical observation (blood-urea nitrogen levels) during and after therapy and histological examination approximately 3 months after respiratory challenge failed to disclose any evidence of nephrotoxicity or renal damage due to the oral antibiotic therapy (total doses of more than 3 g of amphotericin B).\",\"pmid\":\"5874542\",\"title\":\"Antibiotic control of tissue reactions in dogs vaccinated with viable cells of Coccidioides immitis.\"}\n",
      "{\"journal\":\"Journal of bacteriology\",\"meshMajor\":[\"Aeromonas\",\"Crustacea\",\"Culture Media\",\"Marine Biology\",\"Peptide Hydrolases\",\"Peptones\"],\"year\":\"1964\",\"abstractText\":\"Merkel, Joseph R. (Fort Johnson Marine Biological Laboratory, College of Charleston, Charleston, S.C.), Eugene D. Traganza, Barid B. Mukherjee, Travis B. Griffin, and J. M. Prescott. Proteolytic activity and general characteristics of a marine bacterium, Aeromonas proteolytica sp. n. J. Bacteriol. 87:1227-1233. 1964.-A highly proteolytic bacterial species was isolated from the alimentary canal of the marine borer, Limnoria. The morphological and biochemical characteristics of the organism indicated that it was a new Aeromonas species, for which the name A. proteolytica is proposed. When freshly isolated, the organism required seawater for growth; but, upon prolonged culture in the laboratory, it was able to grow in media of greatly reduced salt concentration, provided that relatively large amounts of peptone were supplied. Peptone or hydrolysates of casein were capable of supplying all organic nutrients required for growth and proteinase production. Certain individual amino acids were also able to furnish all energy, carbon, and nitrogen requirements. Inorganic nitrogen was utilized in the presence of citrate, but could not serve as the only source of nitrogen in the presence of glucose. The organism was facultatively anaerobic, but best growth and proteinase production occurred only with vigorous aeration. The amount of growth obtained in 24 hr increased rapidly as the incubation temperature was increased up to a maximum of 40 C, but no growth occurred at 42 C.\",\"pmid\":\"5874543\",\"title\":\"Proteolytic activity and general characteristics of a marine bacterium, Aeromonas proteolytica sp. N.\"}\n",
      "{\"journal\":\"Journal of bacteriology\",\"meshMajor\":[\"Adenoviridae\",\"Antimetabolites\",\"Culture Techniques\",\"DNA, Viral\",\"Fluorouracil\",\"HeLa Cells\",\"Nucleosides\",\"Phosphorus Isotopes\",\"RNA\",\"Virus Cultivation\"],\"year\":\"1964\",\"abstractText\":\"Flanagan, John F. (University of Pennsylvania, Philadelphia), and Harold S. Ginsberg. Role of ribonucleic acid biosynthesis in multiplication of type 5 adenovirus. J. Bacteriol. 87:977-987. 1964.-The requirement for ribonucleic acid (RNA) biosynthesis in the multiplication of type 5 adenovirus was investigated by using radioactive phosphorus to label nucleic acids and two pyrimidine analogues, 6-azauridine and 5-fluorouracil or 5-fluorouridine, to inhibit synthesis of functional RNA. The data indicate that biosynthesis of RNA after infection is essential for production of virus-specific deoxyribonucleic acid, virus antigens, and infectious particles. The onset of essential RNA synthesis occurs 8 to 9 hr after virus infection and prior to the biosynthesis of other known virus-induced macromolecules.\",\"pmid\":\"5874548\",\"title\":\"Role of ribonucleic acid biosynthesis in multiplication of type 5 adenovirus.\"}\n",
      "{\"journal\":\"Journal of bacteriology\",\"meshMajor\":[\"Carbon Dioxide\",\"Clostridium\",\"Coloring Agents\",\"Ethanol\",\"Hydrogen\",\"Methane\",\"Oxidation-Reduction\",\"Pyridines\",\"Quaternary Ammonium Compounds\"],\"year\":\"1964\",\"abstractText\":\"Wolin, E. A. (University of Illinois, Urbana), R. S. Wolfe, and M. J. Wolin. Viologen dye inhibition of methane formation by Methanobacillus omelianskii. J. Bacteriol. 87:993-998. 1964.-Low concentrations of methyl or benzyl viologen inhibit the formation of CH(4) from ethanol and CO(2) by washed cells of Methanobacillus omelianskii. Hydrogen, which is normally formed from ethanol, accumulates in greater quantities when CH(4) formation is inhibited by viologens. The viologens do not stimulate H(2) formation from ethanol in the absence of CO(2). Inhibition of CH(4) formation by the viologens is not reversed by H(2). A variety of other dyes and possible electron acceptors were tested for inhibition, and none was inhibitory in the same low-concentration range at which the viologens were effective.\",\"pmid\":\"5874549\",\"title\":\"Viologen dye inhibition of methane formation by Methanobacillus omelianskii.\"}\n",
      "{\"journal\":\"Journal of bacteriology\",\"meshMajor\":[\"Antibodies\",\"Bacillus\",\"Bacteriolysis\",\"Bacteriophages\",\"Calcium Chloride\",\"Microscopy, Electron\"],\"year\":\"1964\",\"abstractText\":\"Shafia, Fred (University of Nebraska, Lincoln), and T. L. Thompson. Isolation and preliminary characterization of bacteriophage phimu-4. J. Bacteriol. 87:999-1002. 1964.-Bacteriophage phimu-4 was isolated from lysogenic Bacillus stearothermophilus NU strain 4, and was propagated in strain 10 of the same species. The phage was extremely host-specific. One of the 23 strains of thermophiles screened for susceptibility supported phage replication. Plaque-forming efficiency of phimu-4 depended on the agar medium employed and the temperature of incubation. Generally, media which resulted in restricted growth of the host cells on agar plates were most satisfactory for plaque formation. A latent period of 35 min was terminated in cell lysis and release of about 175 plaque-forming units (PFU) per infected cell. The phage particles, propagated in cells cultured in Trypticase (BBL)-yeast extract-dextrose-calcium chloride broth, were routinely removed from the lysate by 0.6 ammonium sulfate saturation in the cold. Phage purification was by ultracentrifugation followed by sucrose density-gradient. The phage particles appeared spherical, in electron micrographs. Particle size determination by electron micrographs indicated a diameter of less than 100 A.\",\"pmid\":\"5874550\",\"title\":\"Isolation and preliminary characterization of bacteriophage phi-mu-4.\"}\n",
      "{\"journal\":\"Applied microbiology\",\"meshMajor\":[\"Animals\",\"Anti-Infective Agents, Local\",\"Chlamydia\",\"Distemper Virus, Canine\",\"Dogs\",\"Encephalomyocarditis virus\",\"Hepatovirus\",\"Herpesviridae\",\"Measles virus\",\"Mice\",\"Orthomyxoviridae\",\"Poliovirus\",\"Rabies virus\",\"Semliki forest virus\",\"Vaccinia virus\"],\"year\":\"1964\",\"abstractText\":\"Benzalkonium chloride (as Roccal or Zephiran) was found to inactivate influenza, measles, canine distemper, rabies, fowl laryngotracheitis, vaccinia, Semliki Forest, feline pneumonitis, meningopneumonitis, and herpes simplex viruses after 10 min of exposure at 30 C or at room temperature. Poliovirus and encephalomyocarditis virus were not inactivated under the same conditions. It was concluded that all viruses tested were sensitive except members of the picorna group. The literature was reviewed.\",\"pmid\":\"4288740\",\"title\":\"Inactivation of viruses by benzalkonium chloride.\"}\n"
     ]
    }
   ],
   "source": [
    "with codecs.open('data/allMeSH_2022.json', 'r', encoding='utf-8', errors='ignore') as corpus:\n",
    "    line_nr = 0\n",
    "    for line in corpus:\n",
    "        if line_nr > 16218829:\n",
    "            print(line[:-2])\n",
    "        line_nr += 1"
   ]
  },
  {
   "cell_type": "code",
   "execution_count": null,
   "metadata": {},
   "outputs": [],
   "source": [
    "stop_words = set(stopwords.words('english'))\n",
    "stemmer = PorterStemmer()\n",
    "\n",
    "def preprocess(text):\n",
    "    tokens = word_tokenize(text.lower())\n",
    "    tokens = [stemmer.stem(token) for token in tokens if token.isalnum() and token not in stop_words]\n",
    "    return tokens\n",
    "\n",
    "def process_line(line):\n",
    "    processed_line = line.strip()\n",
    "    if processed_line.endswith(','):\n",
    "        processed_line = processed_line[:-1]\n",
    "    if not processed_line:\n",
    "        return None\n",
    "    try:\n",
    "        line_json = json.loads(processed_line)\n",
    "        pmid = line_json.get(\"pmid\", None)\n",
    "        abstract = line_json.get(\"abstractText\", \"\")\n",
    "        if pmid and abstract:\n",
    "            tokens = preprocess(abstract)\n",
    "            return pmid, Counter(tokens), len(tokens)\n",
    "    except json.JSONDecodeError as e:\n",
    "        return None\n",
    "    except Exception as e:\n",
    "        return None\n",
    "    return None"
   ]
  },
  {
   "cell_type": "code",
   "execution_count": 6,
   "metadata": {},
   "outputs": [
    {
     "name": "stdout",
     "output_type": "stream",
     "text": [
      "34823483\n",
      "['background', 'worldwid', 'hypertens', 'disord', 'pregnanc', 'hdp', 'fetal', 'growth', 'restrict', 'fgr', 'preterm', 'birth', 'remain', 'lead', 'caus', 'matern', 'fetal', 'mortal', 'morbid', 'fetal', 'cardiac', 'deform', 'chang', 'first', 'sign', 'placent', 'dysfunct', 'associ', 'hdp', 'fgr', 'preterm', 'birth', 'addit', 'preterm', 'birth', 'like', 'associ', 'chang', 'electr', 'activ', 'across', 'uterin', 'muscl', 'therefor', 'fetal', 'cardiac', 'function', 'uterin', 'activ', 'use', 'earli', 'detect', 'complic', 'pregnanc', 'fetal', 'cardiac', 'function', 'uterin', 'activ', 'assess', 'echocardiographi', 'fetal', 'electrocardiographi', 'electrohysterographi', 'ehg', 'studi', 'aim', 'gener', 'refer', 'valu', 'ehg', 'paramet', 'second', 'trimest', 'pregnanc', 'investig', 'diagnost', 'potenti', 'paramet', 'earli', 'detect', 'hdp', 'fgr', 'preterm', 'longitudin', 'prospect', 'cohort', 'studi', 'elig', 'women', 'recruit', 'tertiari', 'care', 'hospit', 'primari', 'midwiferi', 'practic', 'total', '594', 'initi', 'healthi', 'pregnant', 'women', 'uncompl', 'singleton', 'pregnanc', 'includ', 'record', 'ehg', 'made', 'weekli', '22', '28', 'week', 'gestat', 'measur', 'perform', '16', '20', '24', '28', 'week', 'gestat', 'age', 'retrospect', 'pregnanc', 'complic', 'diseas', 'exclud', 'cohort', 'refer', 'valu', 'ehg', 'paramet', 'assess', 'uncompl', 'pregnanc', 'ehg', 'paramet', 'measur', 'gestat', 'complic', 'pregnanc', 'compar', 'refer', 'larg', 'prospect', 'studi', 'investig', 'new', 'technolog', 'could', 'potenti', 'high', 'impact', 'antepartum', 'fetal', 'registr', 'regist', '26', 'march', '2020', 'dutch', 'trial', 'regist', 'nl8769', 'via', 'http', 'regist', '21', 'octob', '2020', 'central', 'committe', 'research', 'involv', 'human', 'subject', 'via', 'http', 'openform']\n",
      "34821622\n",
      "['rapid', 'isol', 'white', 'blood', 'cell', 'wbc', 'whole', 'blood', 'essenti', 'part', 'wbc', 'examin', 'platform', 'howev', 'convent', 'cell', 'separ', 'techniqu', 'low', 'throughput', 'requir', 'larg', 'volum', 'sampl', 'need', 'extens', 'cell', 'manipul', 'low', 'puriti', 'address', 'challeng', 'report', 'design', 'fabric', 'passiv', 'microfluid', 'devic', 'uniqu', 'separ', 'wbc', 'whole', 'blood', 'use', 'hydrodynam', 'forc', 'exist', 'microchannel', 'curvilinear', 'geometri', 'shown', 'spiral', 'microchannel', 'concentr', 'larger', 'blood', 'cell', 'wbc', 'inner', 'microchannel', 'move', 'smaller', 'blood', 'cell', 'rbc', 'platelet', 'outer', 'microchannel', 'section', 'prevent', 'return', 'inner', 'microchannel', 'section', 'therefor', 'overcom', 'major', 'limit', 'rectangular', 'secondari', 'dean', 'vortic', 'constantli', 'enforc', 'particl', 'throughout', 'entir', 'decreas', 'isol', 'effici', 'optim', 'set', 'manag', 'isol', '95', 'wbc', 'whole', 'blood', '6', '88', '360', 'ml', 'sampl', '1', 'h', 'condit', 'high', 'effici', 'fast', 'process', 'time', 'wbc', 'isol', 'larg', 'blood', 'sampl', 'without', 'centrifug', 'rbc', 'lysi', 'cell', 'biomark', 'chemic', 'make', 'method', 'ideal', 'choic', 'downstream', 'cell', 'studi', 'platform']\n",
      "34821630\n",
      "['ch3nh3pbbr3', 'perovskit', 'thin', 'film', 'use', 'layer', 'coat', 'surfac', 'au', 'film', 'form', 'hybrid', 'structur', 'use', 'hybrid', 'structur', 'surfac', 'plasmon', 'reson', 'gwspr', 'biosensor', 'propos', 'high', 'angular', 'sensit', 'first', 'found', 'electr', 'field', 'sens', 'interfac', 'improv', 'ch3nh3pbbr3', 'perovskit', 'thin', 'film', 'therebi', 'enhanc', 'sensit', 'result', 'demonstr', 'angular', 'sensit', 'gwspr', 'biosensor', 'high', 'higher', 'convent', 'surfac', 'plasmon', 'reson', 'spr', 'biosensor', 'second', 'select', 'coupl', 'prism', 'configur', 'gwspr', 'biosensor', 'also', 'analyz', 'indic', 'low', 'refract', 'index', 'ri', 'prism', 'gener', 'greater', 'sensit', 'therefor', 'bk7', 'prism', 'serv', 'coupl', 'prism', 'propos', 'gwspr', 'biosensor', 'final', 'propos', 'gwspr', 'sens', 'structur', 'use', 'liquid', 'sens', 'also', 'ga', 'sens', 'also', 'demonstr', 'gwspr', 'ga', 'sensor', 'time', 'sensit', 'spr', 'ga', 'sensor']\n",
      "34821631\n",
      "['toxic', 'organochlorid', 'molecul', 'wide', 'use', 'industri', 'variou', 'purpos', 'high', 'volatil', 'direct', 'detect', 'organochlorid', 'environment', 'sampl', 'challeng', 'new', 'organochlorid', 'detect', 'mechan', 'use', 'dbn', 'introduc', 'simplifi', 'sens', 'method', 'higher', 'detect', 'sensit', 'three', 'type', 'organochlorid', 'tce', 'dichloromethan', 'dcm', 'dichlorodiphenyltrichloroethan', 'ddt', 'target', 'understand', 'dcm', 'conjug', 'chemistri', 'use', 'nuclear', 'magnet', 'reson', 'nmr', 'liquid', 'chromatographi', 'mass', 'spectromet', 'spectra', 'data', 'indic', 'dbn', 'label', 'organochlorid', 'compound', 'interact', 'furthermor', 'demonstr', 'organochlorid', 'sens', 'capabl', 'label', 'yield', 'limit', 'detect', 'determin', 'colorimetr', 'assay', 'well', 'micellar', 'electrokinet', 'chromatographi', 'mekc', 'interact', 'dbn', 'appreci', 'tce', 'among', 'organochlorid', 'tce', 'detect', 'picomolar', 'level', 'two', 'order', 'magnitud', 'lower', 'maximum', 'contamin', 'level', 'set', 'unit', 'state', 'environment', 'protect', 'agenc', 'mekc', 'conjunct', 'method', 'enabl', 'us', 'develop', 'sens', 'platform', 'detect', 'toxic', 'organochlorid', 'high', 'sensit']\n",
      "34821632\n",
      "['suspend', 'particl', 'play', 'signific', 'role', 'aquat', 'system', 'howev', 'exist', 'method', 'probe', 'suspend', 'particl', 'sever', 'limit', 'paper', 'present', 'portabl', 'prototyp', 'situ', 'probe', 'individu', 'particl', 'aquat', 'suspens', 'simultan', 'measur', 'polar', 'light', 'scatter', 'fluoresc', 'aim', 'obtain', 'effect', 'classif', 'microplast', 'microalga', 'result', 'show', 'obtain', 'classif', 'accuraci', 'significantli', 'higher', 'either', 'two', 'method', 'setup', 'also', 'success', 'measur', 'submicron', 'particl', 'discrimin', 'two', 'speci', 'synechococcu', 'studi', 'demonstr', 'feasibl', 'simultan', 'measur', 'polar', 'light', 'scatter', 'fluoresc', 'promis', 'capabl', 'method', 'aquat', 'environment', 'monitor']\n",
      "34821633\n",
      "['recent', 'advanc', 'suggest', 'miniaturis', 'mir', 'devic', 'could', 'replac', 'techniqu', 'clinic', 'diagnost', 'work', 'use', 'fourier', 'transform', 'infrar', 'spectroscopi', 'show', 'mir', 'complex', 'refract', 'index', 'whole', 'blood', 'vari', 'across', 'rang', 'haematocrit', 'indic', 'use', 'evanesc', 'measur', 'suffici', 'optic', 'exclud', 'cellular', 'content', 'blood', 'mir', 'previous', 'assum', 'spectral', 'refract', 'index', 'data', 'present', 'two', 'way', 'first', 'given', 'whole', 'blood', 'vari', 'haematocrit', 'second', 'given', 'percentag', 'error', 'haematocrit', 'introduc', 'plasma', 'maximum', 'error', 'effect', 'plasma', 'refract', 'index', 'due', 'haematocrit', 'healthi', 'adult', 'real', 'part', 'n', '11', 'imaginari', 'part', 'impli', 'calibr', 'measur', 'haematocrit', 'use', 'account', 'error', 'introduc', 'cellular', 'content', 'enabl', 'plasma', 'spectra', 'analyt', 'concentr', 'indirectli', 'calcul', 'whole', 'blood', 'sampl', 'methodolog', 'advanc', 'clinic', 'import', 'plasma', 'concentr', 'analyt', 'drug', 'determin', 'use', 'mir', 'without', 'preprocess', 'whole', 'blood']\n",
      "34821634\n",
      "['mass', 'one', 'earli', 'sign', 'breast', 'cancer', 'surviv', 'rate', 'women', 'suffer', 'breast', 'cancer', 'improv', 'mass', 'correctli', 'identifi', 'benign', 'malign', 'howev', 'classif', 'challeng', 'due', 'similar', 'textur', 'pattern', 'type', 'mass', 'exist', 'method', 'problem', 'low', 'sensit', 'specif', 'base', 'hypothesi', 'divers', 'contextu', 'inform', 'mass', 'region', 'form', 'strong', 'indic', 'discrimin', 'benign', 'malign', 'mass', 'idea', 'ensembl', 'classifi', 'introduc', 'system', 'problem', 'system', 'use', 'multipl', 'region', 'interest', 'roi', 'encompass', 'mass', 'region', 'model', 'divers', 'contextu', 'inform', 'singl', 'model', 'modif', 'backbon', 'local', 'decis', 'stack', 'svm', 'base', 'model', 'predict', 'final', 'decis', 'data', 'augment', 'techniqu', 'introduc', 'backbon', 'model', 'system', 'thoroughli', 'evalu', 'benchmark', 'dataset', 'use', 'provid', 'data', 'split', 'protocol', 'achiev', 'sensit', 'specif', 'furthermor', 'found', 'system', 'give', 'higher', 'perform', 'train', 'test', 'use', 'data', 'specif', 'breast', 'densiti', 'class', 'system', 'need', 'multipl', 'cnn', 'model', 'introduc', 'divers', 'contextu', 'inform', 'multipl', 'roi', 'comparison', 'show', 'method', 'outperform', 'method', 'classifi', 'mass', 'region', 'benign', 'malign', 'help', 'radiologist', 'reduc', 'burden', 'enhanc', 'sensit', 'predict', 'malign', 'mass']\n",
      "34821635\n",
      "['measur', 'cystein', 'human', 'urin', 'live', 'cell', 'crucial', 'evalu', 'biolog', 'metabol', 'monitor', 'maintain', 'immun', 'system', 'prevent', 'damag', 'caus', 'free', 'radic', 'prevent', 'autoimmun', 'diseas', 'diagnos', 'disord', 'cystinuria', 'cancer', 'method', 'use', 'fluoresc', 'probe', 'portabl', 'fluoresc', 'spectromet', 'devic', 'crucial', 'highli', 'sensit', 'simpl', 'rapid', 'inexpens', 'cystein', 'detect', 'herein', 'present', 'synthesi', 'applic', 'fluoresc', 'probe', 'abia', 'along', 'design', 'develop', 'portabl', 'fluoresc', 'spectromet', 'devic', 'cysddev', 'detect', 'cystein', 'simul', 'human', 'urin', 'abia', 'show', 'excel', 'select', 'sensit', 'detect', 'cystein', 'homocystein', 'glutathion', 'amino', 'acid', 'respons', 'time', '1', 'min', 'demonstr', 'detect', 'limit', 'nm', 'use', 'develop', 'cysddev', 'abia', 'also', 'demonstr', 'util', 'detect', 'intracellular', 'cystein', 'make', 'excel', 'probe', 'assay']\n",
      "34819018\n",
      "['background', 'hiv', 'test', 'antenat', 'care', 'anc', 'critic', 'achiev', 'zero', 'new', 'infect', 'africa', 'although', 'women', 'test', 'anc', 'remain', 'risk', 'hiv', 'exposur', 'transmiss', 'infant', 'partner', 'test', 'studi', 'evalu', 'group', 'anc', 'use', 'interact', 'learn', 'practic', 'partner', 'commun', 'associ', 'improv', 'partner', 'hiv', 'test', 'random', 'pilot', 'studi', 'conduct', 'malawi', 'tanzania', 'found', 'multipl', 'posit', 'outcom', 'pregnant', 'women', '218', 'assign', 'group', 'versu', 'individu', 'anc', 'analysi', 'add', 'previous', 'unpublish', 'result', 'two', 'late', 'pregnanc', 'outcom', 'commun', 'partner', 'three', 'reproduct', 'health', 'topic', 'safer', 'sex', 'hiv', 'test', 'famili', 'plan', 'partner', 'hiv', 'test', 'sinc', 'first', 'antenat', 'care', 'visit', 'multivari', 'logist', 'regress', 'model', 'use', 'assess', 'effect', 'type', 'anc', 'partner', 'commun', 'partner', 'test', 'also', 'conduct', 'mediat', 'analysi', 'assess', 'whether', 'partner', 'commun', 'mediat', 'effect', 'type', 'care', 'partner', 'hiv', 'nearli', '70', 'women', 'group', 'report', 'commun', 'reproduct', 'health', 'partner', 'compar', '45', 'women', 'individu', 'anc', 'control', 'signific', 'covari', 'women', 'group', 'anc', 'twice', 'like', 'individu', 'anc', 'report', 'partner', 'got', 'hiv', 'test', '95', 'ci', 'posit', 'effect', 'group', 'anc', 'model', 'partner', 'hiv', 'test', 'fulli', 'mediat', 'increas', 'partner', 'hiv', 'prevent', 'includ', 'group', 'anc', 'health', 'promot', 'without', 'compromis', 'servic', 'coverag', 'standard', 'anc', 'topic', 'demonstr', 'local', 'health', 'promot', 'need', 'integr', 'anc', 'use', 'group', 'find', 'provid', 'evid', 'greater', 'partner', 'commun', 'promot', 'healthi', 'reproduct', 'behavior', 'includ', 'hiv', 'prevent', 'addit', 'research', 'need', 'understand', 'process', 'group', 'anc', 'allow', 'women', 'discuss', 'sensit', 'topic', 'partner', 'commun', 'led', 'partner', 'hiv', 'test']\n",
      "34818923\n",
      "['oral', 'strain', 'probiot', 'bifidobacteria', 'could', 'potenti', 'strategi', 'studi', 'aim', 'evalu', 'role', 'oral', 'probiot', 'bifidobacterium', 'inpati', 'studi', 'analyz', 'data', '44', 'inpati', 'diagnos', 'istanbul', 'maltep', 'univers', 'medic', 'faculti', 'hospit', '2020', '1', 'novemb', '2020', '15', 'decemb', 'clinic', 'medic', 'featur', 'compar', 'analyz', 'patient', 'without', 'probiot', 'result', '19', '44', 'patient', 'administr', 'oral', 'strain', 'probiot', 'discharg', 'median', 'inpati', 'day', 'significantli', 'shorter', 'patient', 'without', 'probiot', 'signific', 'differ', 'inpati', 'day', 'radiolog', 'improv', 'day', '6', 'week', '3', 'reduct', 'level', 'receiv', 'oral', 'probiot', 'therapi', 'although', 'mortal', 'rate', '5', 'probiot', 'group', '25', 'group', 'strain', 'probiot', 'bifidobacteria', 'could', 'effect', 'treatment', 'strategi', 'inpati', 'reduc', 'mortal', 'length', 'stay', 'hospit']\n"
     ]
    }
   ],
   "source": [
    "json_file = 'data/allMeSH_2022.json'\n",
    "list_counter = []\n",
    "\n",
    "# showcase preprocessing\n",
    "with codecs.open(json_file, 'r', encoding='utf-8', errors='ignore') as corpus:\n",
    "    line_nr = 0\n",
    "    for line in corpus:\n",
    "        if line_nr > 0:\n",
    "            line_json = json.loads(line[:-2])\n",
    "            print(line_json[\"pmid\"])\n",
    "            print(preprocess(line_json[\"abstractText\"]))\n",
    "            list_counter.append(Counter(preprocess(line_json[\"abstractText\"])))\n",
    "            #print(line[:-2])\n",
    "        line_nr += 1\n",
    "        if line_nr >= 11:\n",
    "            break"
   ]
  },
  {
   "cell_type": "code",
   "execution_count": null,
   "metadata": {},
   "outputs": [],
   "source": [
    "def build_index_parallel(corpus_path,\n",
    "                         checkpoint_path=\"checkpoint.pkl\",\n",
    "                         save_every_n_docs=100000,\n",
    "                         chunk_size=1000,\n",
    "                         num_workers=None):\n",
    "    if num_workers is None:\n",
    "        num_workers = cpu_count()\n",
    "\n",
    "    index = defaultdict(list)\n",
    "    doc_metadata = {}\n",
    "    tf = {}\n",
    "    df = Counter()\n",
    "    total_docs = 0\n",
    "    total_dl = 0\n",
    "    processed_lines_count = 0\n",
    "\n",
    "    # --- Load from checkpoint if exists ---\n",
    "    if os.path.exists(checkpoint_path):\n",
    "        print(f\"--- Checkpoint found at {checkpoint_path}. Resuming... ---\")\n",
    "        try:\n",
    "            with open(checkpoint_path, 'rb') as f_checkpoint:\n",
    "                saved_state = pickle.load(f_checkpoint)\n",
    "                index = saved_state['index']\n",
    "                doc_metadata = saved_state['doc_metadata']\n",
    "                tf = saved_state['tf']\n",
    "                df = saved_state['df']\n",
    "                total_docs = saved_state['total_docs']\n",
    "                total_dl = saved_state['total_dl']\n",
    "                processed_lines_count = saved_state['processed_lines_count']\n",
    "                print(f\"--- Resumed state: {total_docs} documents processed from {processed_lines_count} lines. ---\")\n",
    "        except Exception as e:\n",
    "            print(f\"Error loading checkpoint: {e}. Starting from scratch.\")\n",
    "            index, doc_metadata, tf, df = defaultdict(list), {}, {}, Counter()\n",
    "            total_docs, total_dl, processed_lines_count = 0, 0, 0\n",
    "    else:\n",
    "        print(\"--- No checkpoint found. Starting from scratch. ---\")\n",
    "\n",
    "    last_save_doc_count = total_docs\n",
    "\n",
    "    try:\n",
    "        with codecs.open(corpus_path, 'r', encoding='utf-8', errors='ignore') as corpus, \\\n",
    "             Pool(processes=num_workers) as pool:\n",
    "\n",
    "            if processed_lines_count > 0:\n",
    "                print(f\"Skipping first {processed_lines_count} lines from input file...\")\n",
    "                for _ in range(processed_lines_count):\n",
    "                    next(corpus)\n",
    "                print(\"Skipping complete.\")\n",
    "\n",
    "            current_line_nr = processed_lines_count\n",
    "            doc_id_counter = total_docs\n",
    "\n",
    "            while True:\n",
    "                lines_chunk = list(itertools.islice(corpus, chunk_size))\n",
    "                if not lines_chunk:\n",
    "                    break\n",
    "\n",
    "                chunk_results = pool.map(process_line, lines_chunk, chunksize=max(1, chunk_size // (num_workers * 2)))\n",
    "\n",
    "                lines_in_chunk = len(lines_chunk)\n",
    "                del lines_chunk\n",
    "\n",
    "                for result in chunk_results:\n",
    "                    if result:\n",
    "                        pmid, doc_tf_counter, doc_length = result\n",
    "                        current_doc_id = doc_id_counter\n",
    "\n",
    "                        doc_metadata[current_doc_id] = {\"pmid\": pmid, \"length\": doc_length}\n",
    "                        tf[current_doc_id] = doc_tf_counter\n",
    "                        total_dl += doc_length\n",
    "                        total_docs += 1\n",
    "\n",
    "                        for token, freq in doc_tf_counter.items():\n",
    "                            df[token] += 1\n",
    "                            index[token].append(current_doc_id)\n",
    "\n",
    "                        doc_id_counter += 1\n",
    "\n",
    "                current_line_nr += lines_in_chunk\n",
    "                print(f\"Processed up to line ~{current_line_nr}. Total documents: {total_docs}\")\n",
    "\n",
    "                if total_docs >= last_save_doc_count + save_every_n_docs:\n",
    "                    print(f\"\\n--- Saving checkpoint at {total_docs} documents (processed ~{current_line_nr} lines)... ---\")\n",
    "                    checkpoint_state = {\n",
    "                        'index': index,\n",
    "                        'doc_metadata': doc_metadata,\n",
    "                        'tf': tf,\n",
    "                        'df': df,\n",
    "                        'total_docs': total_docs,\n",
    "                        'total_dl': total_dl,\n",
    "                        'processed_lines_count': current_line_nr\n",
    "                    }\n",
    "                    temp_checkpoint_path = checkpoint_path + \".tmp\"\n",
    "                    try:\n",
    "                        with open(temp_checkpoint_path, 'wb') as f_temp_checkpoint:\n",
    "                            pickle.dump(checkpoint_state, f_temp_checkpoint, protocol=pickle.HIGHEST_PROTOCOL)\n",
    "                        os.replace(temp_checkpoint_path, checkpoint_path)\n",
    "                        print(f\"--- Checkpoint saved successfully to {checkpoint_path} ---\")\n",
    "                        last_save_doc_count = total_docs\n",
    "                    except Exception as e:\n",
    "                        print(f\"!!! Error saving checkpoint: {e} !!!\")\n",
    "                        if os.path.exists(temp_checkpoint_path):\n",
    "                            try:\n",
    "                                os.remove(temp_checkpoint_path)\n",
    "                            except OSError:\n",
    "                                pass\n",
    "                    del checkpoint_state # Free memory\n",
    "\n",
    "    except Exception as e:\n",
    "        print(f\"\\n!!! An error occurred during processing: {e} !!!\")\n",
    "        print(\"Please check the error message. Try resuming the script to continue from the last checkpoint.\")\n",
    "        raise\n",
    "\n",
    "    # --- Final calculations (after loop finishes) ---\n",
    "    if total_docs == 0:\n",
    "        print(\"Warning: No documents processed.\")\n",
    "        return index, {}, {}, {}, 0\n",
    "\n",
    "    avg_dl = total_dl / total_docs\n",
    "    # Using +1 smoothing for IDF\n",
    "    idf = {token: math.log((total_docs + 1) / (freq + 1)) + 1 for token, freq in df.items()}\n",
    "\n",
    "    print(f\"\\n--- Finished building index. Total documents: {total_docs} ---\")\n",
    "\n",
    "    # --- Optional: Final save after successful completion ---\n",
    "    print(\"--- Saving final state... ---\")\n",
    "    final_state = {\n",
    "        'index': index, 'doc_metadata': doc_metadata, 'tf': tf, 'df': df,\n",
    "        'total_docs': total_docs, 'total_dl': total_dl,\n",
    "        'processed_lines_count': current_line_nr # Save final line count\n",
    "    }\n",
    "    temp_checkpoint_path = checkpoint_path + \".tmp\"\n",
    "    try:\n",
    "        with open(temp_checkpoint_path, 'wb') as f_temp_checkpoint:\n",
    "            pickle.dump(final_state, f_temp_checkpoint, protocol=pickle.HIGHEST_PROTOCOL)\n",
    "        os.replace(temp_checkpoint_path, checkpoint_path)\n",
    "        print(f\"--- Final state saved successfully to {checkpoint_path} ---\")\n",
    "    except Exception as e:\n",
    "        print(f\"!!! Error saving final state: {e} !!!\")\n",
    "\n",
    "    return index, doc_metadata, tf, idf, avg_dl"
   ]
  },
  {
   "cell_type": "code",
   "execution_count": null,
   "metadata": {},
   "outputs": [
    {
     "name": "stdout",
     "output_type": "stream",
     "text": [
      "Building index (with checkpointing)...\n",
      "--- Checkpoint found at mesh_index_checkpoint.pkl. Resuming... ---\n",
      "--- Resumed state: 2003999 documents processed from 2004000 lines. ---\n",
      "Skipping first 2004000 lines from input file...\n",
      "Skipping complete.\n"
     ]
    }
   ],
   "source": [
    "# index, doc_ids, tf, idf, avg_dl = build_index_parallel(json_file)\n",
    "\n",
    "json_file = 'data/allMeSH_2022.json'\n",
    "checkpoint_file = 'mesh_index_checkpoint.pkl'\n",
    "\n",
    "print(\"Building index (with checkpointing)...\")\n",
    "index, doc_metadata, tf, idf, avg_dl = build_index_parallel(\n",
    "    json_file,\n",
    "    checkpoint_path=checkpoint_file,\n",
    "    save_every_n_docs=200000, # Save every 200,000 documents\n",
    "    chunk_size=4000,\n",
    "    num_workers=10\n",
    ")"
   ]
  },
  {
   "cell_type": "code",
   "execution_count": 89,
   "metadata": {},
   "outputs": [
    {
     "name": "stdout",
     "output_type": "stream",
     "text": [
      "9.210340371976184\n"
     ]
    }
   ],
   "source": [
    "print(idf.get(\"hirschsprung\", 0))"
   ]
  },
  {
   "cell_type": "code",
   "execution_count": 90,
   "metadata": {},
   "outputs": [
    {
     "name": "stdout",
     "output_type": "stream",
     "text": [
      "0\n"
     ]
    }
   ],
   "source": [
    "print(tf[0][\"hirschsprung\"])"
   ]
  },
  {
   "cell_type": "code",
   "execution_count": null,
   "metadata": {},
   "outputs": [],
   "source": [
    "def calc_scores(query, index, doc_metadata, tf, idf, avg_dl, k1=1.5, b=0.75):\n",
    "    query_tokens = preprocess(query)\n",
    "    scores = defaultdict(float) # Use defaultdict for sparse scores\n",
    "    total_docs = len(doc_metadata)\n",
    "\n",
    "    if total_docs == 0:\n",
    "        return {} # Return empty scores if no documents\n",
    "\n",
    "    for token in query_tokens:\n",
    "        if token in index: # Only process tokens present in the corpus\n",
    "            token_idf = idf.get(token, 0) # Get IDF for the token\n",
    "            postings = index[token] # Get list of internal doc_ids containing the token\n",
    "\n",
    "            for doc_id in postings:\n",
    "                doc_len = doc_metadata[doc_id][\"length\"]\n",
    "                term_freq_in_doc = tf[doc_id].get(token, 0) # Get frequency of the token in this specific doc\n",
    "\n",
    "                # BM25 numerator\n",
    "                numerator = token_idf * term_freq_in_doc * (k1 + 1)\n",
    "                # BM25 denominator\n",
    "                denominator = term_freq_in_doc + k1 * (1 - b + b * (doc_len / avg_dl))\n",
    "\n",
    "                if denominator != 0: # Avoid division by zero\n",
    "                    scores[doc_id] += numerator / denominator # Add score contribution\n",
    "\n",
    "    # Sort scores in descending order and return top results (e.g., top 100)\n",
    "    # Map internal doc_ids back to PMIDs for the final result\n",
    "    sorted_scores = sorted(scores.items(), key=lambda item: item[1], reverse=True)\n",
    "\n",
    "    # Return list of (pmid, score) tuples\n",
    "    return [(doc_metadata[doc_id][\"pmid\"], score) for doc_id, score in sorted_scores]\n",
    "\n",
    "\n",
    "# --- Example Usage ---\n",
    "json_file = 'data/allMeSH_2022.json' # Make sure this path is correct\n",
    "\n",
    "print(\"Building index...\")\n",
    "index, doc_metadata, tf, idf, avg_dl = build_index_parallel(json_file, chunk_size=2000, num_workers=4) # Adjust chunk_size and num_workers based on your system\n",
    "\n",
    "print(\"\\nCalculating scores...\")\n",
    "query = \"Is Hirschsprung disease a mendelian or a multifactorial disorder?\"\n",
    "results = calc_scores(query, index, doc_metadata, tf, idf, avg_dl)\n",
    "\n",
    "print(f\"\\nTop 10 results for query: '{query}'\")\n",
    "for i, (pmid, score) in enumerate(results[:10]):\n",
    "    print(f\"{i+1}. PMID: {pmid}, Score: {score:.4f}\")\n",
    "\n",
    "top_pmids = [pmid for pmid, score in results[:100]]\n",
    "print(\"\\nTop 100 PMIDs:\", top_pmids)"
   ]
  },
  {
   "cell_type": "code",
   "execution_count": 102,
   "metadata": {},
   "outputs": [],
   "source": [
    "scores = calc_scores(\"Is Hirschsprung disease a mendelian or a multifactorial disorder?\", tf, idf, doc_ids, avg_dl)"
   ]
  },
  {
   "cell_type": "code",
   "execution_count": 103,
   "metadata": {},
   "outputs": [
    {
     "data": {
      "text/plain": [
       "array([ 4393, 32519, 56329, 28015,  8112, 32430, 20705, 99219, 86489,\n",
       "       12550,  1078,  8650, 18828, 24153,  5523,   675, 27617, 72717,\n",
       "       30584, 14829,  7850, 17477, 51264, 78976, 93669,  4674, 27835,\n",
       "       75720, 92379, 28803, 31679, 13747, 62475, 22590, 72817, 66776,\n",
       "       34441, 73005, 89728, 52068,    46, 50776, 30623,  5406, 15981,\n",
       "       35537, 11168, 10936, 19899, 31942, 81135, 76997, 72234, 49841,\n",
       "        8006, 41076, 49050, 28025, 91050, 96974, 17654, 55831, 76223,\n",
       "       67767, 43003, 14019, 89595, 49117, 73332, 75469, 96825, 27252,\n",
       "       12992,   952, 97717, 43085, 51369, 24268, 77000, 31488, 26972,\n",
       "        9523, 23727, 36188, 79966, 22853, 53691, 18348, 82363, 93782,\n",
       "       40055, 76704, 28942, 13076, 96771, 20326, 13435, 23763, 83888,\n",
       "       82954])"
      ]
     },
     "execution_count": 103,
     "metadata": {},
     "output_type": "execute_result"
    }
   ],
   "source": [
    "np.array(scores).argsort()[::-1][:100]"
   ]
  },
  {
   "cell_type": "code",
   "execution_count": 104,
   "metadata": {},
   "outputs": [
    {
     "data": {
      "text/plain": [
       "'34634250'"
      ]
     },
     "execution_count": 104,
     "metadata": {},
     "output_type": "execute_result"
    }
   ],
   "source": [
    "doc_ids[4393]"
   ]
  }
 ],
 "metadata": {
  "kernelspec": {
   "display_name": ".venv",
   "language": "python",
   "name": "python3"
  },
  "language_info": {
   "codemirror_mode": {
    "name": "ipython",
    "version": 3
   },
   "file_extension": ".py",
   "mimetype": "text/x-python",
   "name": "python",
   "nbconvert_exporter": "python",
   "pygments_lexer": "ipython3",
   "version": "3.12.3"
  }
 },
 "nbformat": 4,
 "nbformat_minor": 2
}
