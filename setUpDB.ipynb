{
 "cells": [
  {
   "cell_type": "code",
   "execution_count": null,
   "id": "3f55800a",
   "metadata": {},
   "outputs": [],
   "source": [
    "import sqlite3"
   ]
  },
  {
   "cell_type": "code",
   "execution_count": 28,
   "id": "2dc17178",
   "metadata": {},
   "outputs": [],
   "source": [
    "def create_tables(db_path=\"bm25_index.db\"):\n",
    "    conn = sqlite3.connect(db_path)\n",
    "    cursor = conn.cursor()\n",
    "\n",
    "    cur.execute(\"\"\"\n",
    "    CREATE TABLE IF NOT EXISTS documents (\n",
    "        doc_id INTEGER PRIMARY KEY,\n",
    "        length INTEGER NOT NULL\n",
    "    )\n",
    "    \"\"\")\n",
    "\n",
    "    conn.commit()\n",
    "\n",
    "    cursor.execute(\"\"\"\n",
    "    CREATE TABLE IF NOT EXISTS postings (\n",
    "        term TEXT NOT NULL,\n",
    "        doc_id INTEGER NOT NULL,\n",
    "        tf INTEGER NOT NULL,\n",
    "        PRIMARY KEY (term, doc_id),\n",
    "        FOREIGN KEY (doc_id) REFERENCES documents(doc_id)\n",
    "    )\n",
    "    \"\"\")\n",
    "\n",
    "    # Optional but highly recommended for performance\n",
    "    cursor.execute(\"CREATE INDEX IF NOT EXISTS idx_term ON postings(term)\")\n",
    "    cursor.execute(\"CREATE INDEX IF NOT EXISTS idx_doc_id ON postings(doc_id)\")\n",
    "\n",
    "    conn.commit()\n",
    "    conn.close()"
   ]
  },
  {
   "cell_type": "code",
   "execution_count": 29,
   "id": "d141afb8",
   "metadata": {},
   "outputs": [
    {
     "ename": "OperationalError",
     "evalue": "attempt to write a readonly database",
     "output_type": "error",
     "traceback": [
      "\u001b[31m---------------------------------------------------------------------------\u001b[39m",
      "\u001b[31mOperationalError\u001b[39m                          Traceback (most recent call last)",
      "\u001b[36mCell\u001b[39m\u001b[36m \u001b[39m\u001b[32mIn[29]\u001b[39m\u001b[32m, line 1\u001b[39m\n\u001b[32m----> \u001b[39m\u001b[32m1\u001b[39m \u001b[43mcreate_tables\u001b[49m\u001b[43m(\u001b[49m\u001b[43m)\u001b[49m\n",
      "\u001b[36mCell\u001b[39m\u001b[36m \u001b[39m\u001b[32mIn[28]\u001b[39m\u001b[32m, line 5\u001b[39m, in \u001b[36mcreate_tables\u001b[39m\u001b[34m(db_path)\u001b[39m\n\u001b[32m      2\u001b[39m conn = sqlite3.connect(db_path)\n\u001b[32m      3\u001b[39m cursor = conn.cursor()\n\u001b[32m----> \u001b[39m\u001b[32m5\u001b[39m \u001b[43mcur\u001b[49m\u001b[43m.\u001b[49m\u001b[43mexecute\u001b[49m\u001b[43m(\u001b[49m\u001b[33;43m\"\"\"\u001b[39;49m\n\u001b[32m      6\u001b[39m \u001b[33;43mCREATE TABLE IF NOT EXISTS documents (\u001b[39;49m\n\u001b[32m      7\u001b[39m \u001b[33;43m    doc_id INTEGER PRIMARY KEY,\u001b[39;49m\n\u001b[32m      8\u001b[39m \u001b[33;43m    length INTEGER NOT NULL\u001b[39;49m\n\u001b[32m      9\u001b[39m \u001b[33;43m)\u001b[39;49m\n\u001b[32m     10\u001b[39m \u001b[33;43m\u001b[39;49m\u001b[33;43m\"\"\"\u001b[39;49m\u001b[43m)\u001b[49m\n\u001b[32m     12\u001b[39m conn.commit()\n\u001b[32m     14\u001b[39m cursor.execute(\u001b[33m\"\"\"\u001b[39m\n\u001b[32m     15\u001b[39m \u001b[33mCREATE TABLE IF NOT EXISTS postings (\u001b[39m\n\u001b[32m     16\u001b[39m \u001b[33m    term TEXT NOT NULL,\u001b[39m\n\u001b[32m   (...)\u001b[39m\u001b[32m     21\u001b[39m \u001b[33m)\u001b[39m\n\u001b[32m     22\u001b[39m \u001b[33m\u001b[39m\u001b[33m\"\"\"\u001b[39m)\n",
      "\u001b[31mOperationalError\u001b[39m: attempt to write a readonly database"
     ]
    }
   ],
   "source": [
    "create_tables()"
   ]
  },
  {
   "cell_type": "code",
   "execution_count": null,
   "id": "6ef32dc9",
   "metadata": {},
   "outputs": [],
   "source": [
    "def insert_document_info"
   ]
  },
  {
   "cell_type": "code",
   "execution_count": 22,
   "id": "8b8eb9d2",
   "metadata": {},
   "outputs": [
    {
     "data": {
      "text/plain": [
       "<sqlite3.Cursor at 0x105fbed40>"
      ]
     },
     "execution_count": 22,
     "metadata": {},
     "output_type": "execute_result"
    }
   ],
   "source": [
    "cur.execute(\"drop table documents\")"
   ]
  },
  {
   "cell_type": "code",
   "execution_count": null,
   "id": "8542501f",
   "metadata": {},
   "outputs": [],
   "source": [
    "res = cur.execute(\"select * from documents\")"
   ]
  },
  {
   "cell_type": "code",
   "execution_count": 13,
   "id": "9a9d1ad4",
   "metadata": {},
   "outputs": [],
   "source": [
    "res.fetchone()"
   ]
  },
  {
   "cell_type": "code",
   "execution_count": null,
   "id": "7ea96e38",
   "metadata": {},
   "outputs": [],
   "source": []
  }
 ],
 "metadata": {
  "kernelspec": {
   "display_name": "myenv",
   "language": "python",
   "name": "python3"
  },
  "language_info": {
   "codemirror_mode": {
    "name": "ipython",
    "version": 3
   },
   "file_extension": ".py",
   "mimetype": "text/x-python",
   "name": "python",
   "nbconvert_exporter": "python",
   "pygments_lexer": "ipython3",
   "version": "3.13.0"
  }
 },
 "nbformat": 4,
 "nbformat_minor": 5
}
